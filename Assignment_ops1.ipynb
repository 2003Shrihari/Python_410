{
  "nbformat": 4,
  "nbformat_minor": 0,
  "metadata": {
    "colab": {
      "provenance": []
    },
    "kernelspec": {
      "name": "python3",
      "display_name": "Python 3"
    },
    "language_info": {
      "name": "python"
    }
  },
  "cells": [
    {
      "cell_type": "markdown",
      "source": [
        "Assignment operators"
      ],
      "metadata": {
        "id": "5Dq0m-vW6_RP"
      }
    },
    {
      "cell_type": "code",
      "source": [
        "a=10\n",
        "print(a)\n",
        "a+=3\n",
        "print(a)\n",
        "a+=3\n",
        "print(a)\n",
        "a-=4\n",
        "print(a)\n",
        "a/=5\n",
        "print(a)\n",
        "a*=3\n",
        "print(a)\n",
        "a//=3\n",
        "print(a)\n",
        "a=10\n",
        "print(a>>1)\n",
        "print(a)\n",
        "print(a>>2)"
      ],
      "metadata": {
        "colab": {
          "base_uri": "https://localhost:8080/"
        },
        "id": "3j3gsZSf7DJF",
        "outputId": "40d3b479-61db-4f12-9575-e297ba0ced1c"
      },
      "execution_count": null,
      "outputs": [
        {
          "output_type": "stream",
          "name": "stdout",
          "text": [
            "10\n",
            "13\n",
            "16\n",
            "12\n",
            "2.4\n",
            "7.199999999999999\n",
            "2.0\n",
            "5\n",
            "10\n",
            "2\n"
          ]
        }
      ]
    },
    {
      "cell_type": "code",
      "source": [
        "a=int(input(\"enter the number\"))\n",
        "n=1\n",
        "while n<=10:\n",
        "  pro=a*n\n",
        "  print(pro)\n",
        "  n=n+1\n",
        "\n",
        "\n"
      ],
      "metadata": {
        "colab": {
          "base_uri": "https://localhost:8080/"
        },
        "id": "_d1ueqRV7UqV",
        "outputId": "23228dda-cdda-4f17-f070-2c3867c53b46"
      },
      "execution_count": null,
      "outputs": [
        {
          "output_type": "stream",
          "name": "stdout",
          "text": [
            "enter the number5\n",
            "5\n",
            "10\n",
            "15\n",
            "20\n",
            "25\n",
            "30\n",
            "35\n",
            "40\n",
            "45\n",
            "50\n"
          ]
        }
      ]
    },
    {
      "cell_type": "code",
      "source": [
        "x=int(input(\"number=\"))\n",
        "for c in range(1,11,1):\n",
        "   pro=x*c\n",
        "   print(x,\"X\",c,\"=\",pro )"
      ],
      "metadata": {
        "colab": {
          "base_uri": "https://localhost:8080/"
        },
        "id": "eJWTaBjT96_v",
        "outputId": "fda2c7e3-7b65-41e0-d1e0-bd237974b66c"
      },
      "execution_count": null,
      "outputs": [
        {
          "output_type": "stream",
          "name": "stdout",
          "text": [
            "number=5\n",
            "5 X 1 = 5\n",
            "5 X 2 = 10\n",
            "5 X 3 = 15\n",
            "5 X 4 = 20\n",
            "5 X 5 = 25\n",
            "5 X 6 = 30\n",
            "5 X 7 = 35\n",
            "5 X 8 = 40\n",
            "5 X 9 = 45\n",
            "5 X 10 = 50\n"
          ]
        }
      ]
    },
    {
      "cell_type": "code",
      "source": [
        "import random\n",
        "print(\"Welcome to Hand cricket\")\n",
        "sum=0\n",
        "for i in range(1,7,1):\n",
        " x=int(input(\"Enter the number\"))\n",
        " y=random.randint(1,6)\n",
        " if x==y:\n",
        "  print(\"out\")\n",
        "  print(x)\n",
        "  print(y)\n",
        "  break\n",
        " else:\n",
        "  sum=sum+x\n",
        "  print(x)\n",
        "  print(y)\n",
        "print(\"Total=\",sum)"
      ],
      "metadata": {
        "id": "189Clvl9AeJ3",
        "colab": {
          "base_uri": "https://localhost:8080/"
        },
        "outputId": "6dc5488c-c765-45a7-adda-4e8a918f3c6a"
      },
      "execution_count": null,
      "outputs": [
        {
          "output_type": "stream",
          "name": "stdout",
          "text": [
            "Welcome to Hand cricket\n",
            "Enter the number2\n",
            "2\n",
            "4\n",
            "Enter the number1\n",
            "1\n",
            "5\n",
            "Enter the number3\n",
            "3\n",
            "4\n",
            "Enter the number2\n",
            "out\n",
            "2\n",
            "2\n",
            "Total= 6\n"
          ]
        }
      ]
    },
    {
      "cell_type": "code",
      "source": [],
      "metadata": {
        "id": "pdiSrdXoxQOq"
      },
      "execution_count": null,
      "outputs": []
    }
  ]
}