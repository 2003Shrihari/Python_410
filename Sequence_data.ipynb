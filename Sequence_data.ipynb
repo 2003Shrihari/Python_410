{
  "nbformat": 4,
  "nbformat_minor": 0,
  "metadata": {
    "colab": {
      "provenance": []
    },
    "kernelspec": {
      "name": "python3",
      "display_name": "Python 3"
    },
    "language_info": {
      "name": "python"
    }
  },
  "cells": [
    {
      "cell_type": "markdown",
      "source": [
        "Lists\n"
      ],
      "metadata": {
        "id": "8rtLN0rkZypY"
      }
    },
    {
      "cell_type": "code",
      "source": [
        "lis=['shri','hari','jo','shi']\n",
        "print(lis)\n",
        "print(len(lis))\n",
        "lis2=['b','v','b']\n",
        "print(lis2)\n",
        "print(len(lis2))\n",
        "lis3=lis+lis2\n",
        "print(lis3)\n",
        "print(len(lis3))\n",
        "lis=['hi','my','self','shrihari','joshi']\n",
        "lis.append(\"dwd\")\n",
        "lis[3]"
      ],
      "metadata": {
        "colab": {
          "base_uri": "https://localhost:8080/",
          "height": 140
        },
        "id": "GloOWVbdaFKe",
        "outputId": "89e6bc3c-fee8-4de8-d654-5bd3f785943e"
      },
      "execution_count": null,
      "outputs": [
        {
          "output_type": "stream",
          "name": "stdout",
          "text": [
            "['shri', 'hari', 'jo', 'shi']\n",
            "4\n",
            "['b', 'v', 'b']\n",
            "3\n",
            "['shri', 'hari', 'jo', 'shi', 'b', 'v', 'b']\n",
            "7\n"
          ]
        },
        {
          "output_type": "execute_result",
          "data": {
            "text/plain": [
              "'shrihari'"
            ],
            "application/vnd.google.colaboratory.intrinsic+json": {
              "type": "string"
            }
          },
          "metadata": {},
          "execution_count": 2
        }
      ]
    },
    {
      "cell_type": "markdown",
      "source": [
        "Tuples"
      ],
      "metadata": {
        "id": "w5sfcY-taehd"
      }
    },
    {
      "cell_type": "code",
      "source": [
        "tuple1=(\"Hubli\",\"dharwad\",\"blgm\")\n",
        "print(tuple1[0])\n",
        "print(tuple1[1])\n",
        "print(tuple1[2])\n",
        "print(tuple1[-1])\n",
        "print(tuple1[-2])\n",
        "print(tuple1[-3])\n",
        "tuple2=(\"bglr\",\"mnglr\",\"dvngri\")\n",
        "tuple3=tuple1+tuple2\n",
        "tuple4=tuple3*2\n",
        "y=tuple4.index('dharwad')\n",
        "print(y)\n",
        "x=tuple4.count('dharwad')\n",
        "print(x)\n",
        "tuple4"
      ],
      "metadata": {
        "colab": {
          "base_uri": "https://localhost:8080/"
        },
        "id": "WeOrEExKagH3",
        "outputId": "6033a9d9-2499-4988-8448-640845557b0a"
      },
      "execution_count": null,
      "outputs": [
        {
          "output_type": "stream",
          "name": "stdout",
          "text": [
            "Hubli\n",
            "dharwad\n",
            "blgm\n",
            "blgm\n",
            "dharwad\n",
            "Hubli\n",
            "1\n",
            "2\n"
          ]
        },
        {
          "output_type": "execute_result",
          "data": {
            "text/plain": [
              "('Hubli',\n",
              " 'dharwad',\n",
              " 'blgm',\n",
              " 'bglr',\n",
              " 'mnglr',\n",
              " 'dvngri',\n",
              " 'Hubli',\n",
              " 'dharwad',\n",
              " 'blgm',\n",
              " 'bglr',\n",
              " 'mnglr',\n",
              " 'dvngri')"
            ]
          },
          "metadata": {},
          "execution_count": 5
        }
      ]
    },
    {
      "cell_type": "markdown",
      "source": [
        "sets"
      ],
      "metadata": {
        "id": "VbpHbYREbALr"
      }
    },
    {
      "cell_type": "code",
      "source": [
        "set1={\"v\",\"i\",\"b\",\"g\",\"y\"}\n",
        "print(set1)\n",
        "set2={\"o\",\"r\"}\n",
        "print(set2)\n",
        "set1.update(set2)\n",
        "set1"
      ],
      "metadata": {
        "colab": {
          "base_uri": "https://localhost:8080/"
        },
        "id": "ZdjSIU_wbIBS",
        "outputId": "a28ad16f-3475-4bc8-eb5b-8ca10f804e07"
      },
      "execution_count": null,
      "outputs": [
        {
          "output_type": "stream",
          "name": "stdout",
          "text": [
            "{'y', 'g', 'v', 'i', 'b'}\n",
            "{'r', 'o'}\n"
          ]
        },
        {
          "output_type": "execute_result",
          "data": {
            "text/plain": [
              "{'b', 'g', 'i', 'o', 'r', 'v', 'y'}"
            ]
          },
          "metadata": {},
          "execution_count": 16
        }
      ]
    },
    {
      "cell_type": "markdown",
      "source": [
        "Dictionary"
      ],
      "metadata": {
        "id": "-CwaknANb6R4"
      }
    },
    {
      "cell_type": "code",
      "source": [
        "dict1={\"name\":\"S\",\"age\":\"22\"}\n",
        "dict1"
      ],
      "metadata": {
        "colab": {
          "base_uri": "https://localhost:8080/"
        },
        "id": "iCqdZ5_Gb8ff",
        "outputId": "c797578c-1612-440e-e95c-5447f08507e0"
      },
      "execution_count": null,
      "outputs": [
        {
          "output_type": "execute_result",
          "data": {
            "text/plain": [
              "{'name': 'S', 'age': '22'}"
            ]
          },
          "metadata": {},
          "execution_count": 23
        }
      ]
    },
    {
      "cell_type": "code",
      "source": [
        "dic1=dict(name=\"s\",age=\"22\",)\n",
        "dict1"
      ],
      "metadata": {
        "colab": {
          "base_uri": "https://localhost:8080/"
        },
        "id": "Lyp8j2YncDiu",
        "outputId": "96d7278b-23cb-413b-89ee-e2f4fecbe198"
      },
      "execution_count": null,
      "outputs": [
        {
          "output_type": "execute_result",
          "data": {
            "text/plain": [
              "{'name': 'S', 'age': '22'}"
            ]
          },
          "metadata": {},
          "execution_count": 25
        }
      ]
    },
    {
      "cell_type": "code",
      "source": [
        "x=int(input(\"enter the bill\"))\n",
        "if x<100:\n",
        "  bill=x*12.5\n",
        "elif x>100 and x<200:\n",
        "  bill=x*15\n",
        "else :\n",
        "  bill=x*1000\n",
        "print(bill)"
      ],
      "metadata": {
        "colab": {
          "base_uri": "https://localhost:8080/"
        },
        "id": "tFHhnpbck30n",
        "outputId": "a844fdd4-1163-4977-ac68-e4e687288fb8"
      },
      "execution_count": null,
      "outputs": [
        {
          "output_type": "stream",
          "name": "stdout",
          "text": [
            "enter the bill125\n",
            "1875\n"
          ]
        }
      ]
    },
    {
      "cell_type": "code",
      "source": [
        "from ast import IfExp\n",
        "x=int(input(\"enter number\"))\n",
        "if x>0:\n",
        "  if x%2==0:\n",
        "    print(\"its + and even\")\n",
        "  else:\n",
        "    print(\"its + and odd\")\n",
        "elif x<0 :\n",
        "  if x%2==0:\n",
        "     print( \"is - and even\")\n",
        "  else :\n",
        "    print(\"- and odd\")\n"
      ],
      "metadata": {
        "id": "tpXC0sZYlirE"
      },
      "execution_count": null,
      "outputs": []
    },
    {
      "cell_type": "code",
      "source": [
        "year = int(input(\"Enter a year: \"))\n",
        "\n",
        "if year % 4 == 0 and (year % 100 != 0 or year % 400 == 0):\n",
        "    print(f\"{year} is a leap year\")\n",
        "else:\n",
        "    print(f\"{year} is not a leap year\")\n"
      ],
      "metadata": {
        "id": "hcSumKCbo_RE"
      },
      "execution_count": null,
      "outputs": []
    },
    {
      "cell_type": "code",
      "source": [],
      "metadata": {
        "id": "ZOT0W0ACp_2G"
      },
      "execution_count": null,
      "outputs": []
    }
  ]
}