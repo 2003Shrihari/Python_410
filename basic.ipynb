{
  "nbformat": 4,
  "nbformat_minor": 0,
  "metadata": {
    "colab": {
      "provenance": []
    },
    "kernelspec": {
      "name": "python3",
      "display_name": "Python 3"
    },
    "language_info": {
      "name": "python"
    }
  },
  "cells": [
    {
      "cell_type": "code",
      "execution_count": null,
      "metadata": {
        "colab": {
          "base_uri": "https://localhost:8080/"
        },
        "id": "PIt4UTm5krx4",
        "outputId": "7610c2b6-c78d-44de-f632-9724c54e756b"
      },
      "outputs": [
        {
          "output_type": "stream",
          "name": "stdout",
          "text": [
            "Enter the number9\n",
            "Divisible by 3\n",
            "Not Divisible by 7\n",
            "Divisible by 9\n",
            "Not Divisible by 11\n"
          ]
        }
      ],
      "source": [
        "\n",
        "x = int(input(\"Enter the number\"))\n",
        "list1 = ['3', '7', '9', '11']\n",
        "is_prime = True\n",
        "\n",
        "while x > 1:\n",
        "    is_prime = True\n",
        "    for i in range(2, int((x ** 0.5) + 1)):\n",
        "        if x % i == 0:\n",
        "            is_prime = False\n",
        "            break\n",
        "    break\n",
        "\n",
        "if is_prime:\n",
        "    print(\"It's a prime number\")\n",
        "else:\n",
        "    print(\"It's not a prime number\")\n",
        "    for d in list1:\n",
        "        if x % int(d) == 0:\n",
        "            print(\"Divisible by\", d)\n",
        "        else:\n",
        "            print(\"Not Divisible by\", d)\n"
      ]
    },
    {
      "cell_type": "code",
      "source": [
        "\n",
        "w_list = ['gadag', 'hih', 'dharwad', 'red']\n",
        "\n",
        "for word in w_list:\n",
        "    pos = 0\n",
        "    neg = -1\n",
        "    is_palindrome = True\n",
        "\n",
        "    while pos < len(word) // 2:\n",
        "        if word[pos] != word[neg]:\n",
        "            is_palindrome = False\n",
        "            break\n",
        "        pos += 1\n",
        "        neg -= 1\n",
        "\n",
        "    if is_palindrome:\n",
        "        print(f\"{word} is a palindrome\")\n",
        "    else:\n",
        "        print(f\"{word} is not a palindrome\")\n"
      ],
      "metadata": {
        "colab": {
          "base_uri": "https://localhost:8080/"
        },
        "id": "k-Cz7D7Xogeq",
        "outputId": "a55d1a84-ea2a-4883-91ce-0c867d947a10"
      },
      "execution_count": null,
      "outputs": [
        {
          "output_type": "stream",
          "name": "stdout",
          "text": [
            "gadag is a palindrome\n",
            "hih is a palindrome\n",
            "dharwad is not a palindrome\n",
            "red is not a palindrome\n"
          ]
        }
      ]
    },
    {
      "cell_type": "code",
      "source": [
        "\n",
        "list1 = [2, 4, 1, 9, 5, 7, 8, 2, 6, 4]\n",
        "odd_list = []\n",
        "even_list = []\n",
        "\n",
        "for i in num_list:\n",
        "    if num % 2 == 0:\n",
        "        even_list.append(i)\n",
        "    else:\n",
        "        odd_list.append(i)\n",
        "\n",
        "print(\"Odd numbers:\", odd_list)\n",
        "print(\"Even numbers:\", even_list)\n"
      ],
      "metadata": {
        "colab": {
          "base_uri": "https://localhost:8080/"
        },
        "id": "2BDtSq1bl9Ed",
        "outputId": "7dcc1518-f56c-45e8-b7ba-0340945878d8"
      },
      "execution_count": null,
      "outputs": [
        {
          "output_type": "stream",
          "name": "stdout",
          "text": [
            "Odd numbers: [1, 9, 5, 7]\n",
            "Even numbers: [2, 4, 8, 2, 6, 4]\n"
          ]
        }
      ]
    },
    {
      "cell_type": "code",
      "source": [
        "x=int(input(\"Enter the number of columns\"))\n",
        "for i in range(1, x+1):\n",
        "    for j in range(i):\n",
        "        print('*', end='')\n",
        "    print()\n"
      ],
      "metadata": {
        "colab": {
          "base_uri": "https://localhost:8080/"
        },
        "id": "rbO09ov7pS3P",
        "outputId": "98509ad3-69f8-46dd-f85e-680abed188c0"
      },
      "execution_count": null,
      "outputs": [
        {
          "output_type": "stream",
          "name": "stdout",
          "text": [
            "Enter the number of columns3\n",
            "*\n",
            "**\n",
            "***\n"
          ]
        }
      ]
    },
    {
      "cell_type": "code",
      "source": [],
      "metadata": {
        "id": "3DVXo6kWtYuR"
      },
      "execution_count": null,
      "outputs": []
    }
  ]
}