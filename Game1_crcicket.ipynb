{
  "nbformat": 4,
  "nbformat_minor": 0,
  "metadata": {
    "colab": {
      "provenance": []
    },
    "kernelspec": {
      "name": "python3",
      "display_name": "Python 3"
    },
    "language_info": {
      "name": "python"
    }
  },
  "cells": [
    {
      "cell_type": "code",
      "execution_count": null,
      "metadata": {
        "colab": {
          "base_uri": "https://localhost:8080/"
        },
        "id": "IgK4IkDg-GOK",
        "outputId": "0da04add-7773-4658-d428-a67fb61a2b84"
      },
      "outputs": [
        {
          "output_type": "stream",
          "name": "stdout",
          "text": [
            "Welcome to Hand cricket\n",
            "Player 1 :\n"
          ]
        }
      ],
      "source": [
        "import random\n",
        "print(\"Welcome to Hand cricket\")\n",
        "lis1=[]\n",
        "n=1\n",
        "while n<=2:\n",
        " print(\"Player\",n,\":\")\n",
        " sum=0\n",
        " for i in range(1,7,1):\n",
        "  x=int(input(\"Enter the number\"))\n",
        "  y=random.randint(1,6)\n",
        "  if x==y:\n",
        "   print(\"out\")\n",
        "   print(x)\n",
        "   print(y)\n",
        "   break\n",
        "  else:\n",
        "   sum=sum+x\n",
        "   print(x)\n",
        "   print(y)\n",
        "   arr\n",
        " print(\"Total of player\",n,\"is\",sum)\n",
        " lis1.append(sum)\n",
        " n=n+1\n",
        "if lis1[0]>lis1[1]:\n",
        " print(\"Player 1 Won by\",lis1[0]-lis1[1])\n",
        "else:\n",
        " print(\"Player 2 won by\",lis1[1]-lis1[0])"
      ]
    },
    {
      "cell_type": "code",
      "source": [
        "54\n",
        "1\n"
      ],
      "metadata": {
        "id": "CdGvVGEN-_wU"
      },
      "execution_count": null,
      "outputs": []
    }
  ]
}